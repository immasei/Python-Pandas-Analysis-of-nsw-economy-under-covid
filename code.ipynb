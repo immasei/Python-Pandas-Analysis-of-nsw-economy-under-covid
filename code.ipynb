{
 "cells": [
  {
   "cell_type": "code",
   "execution_count": 1,
   "id": "d5612a25",
   "metadata": {},
   "outputs": [
    {
     "data": {
      "text/html": [
       "\n",
       "    <style> body {font-family: \"Roboto Condensed Light\", \"Roboto Condensed\";} h2 {padding: 10px 12px; background-color: #E64626; position: static; color: #ffffff; font-size: 40px;} .text_cell_render p { font-size: 15px; } .text_cell_render h1 { font-size: 30px; } h1 {padding: 10px 12px; background-color: #E64626; color: #ffffff; font-size: 40px;} .text_cell_render h3 { padding: 10px 12px; background-color: #0148A4; position: static; color: #ffffff; font-size: 20px;} h4:before{ \n",
       "    content: \"@\"; font-family:\"Wingdings\"; font-style:regular; margin-right: 4px;} .text_cell_render h4 {padding: 8px; font-family: \"Roboto Condensed Light\"; position: static; font-style: italic; background-color: #FFB800; color: #ffffff; font-size: 18px; text-align: center; border-radius: 5px;}input[type=submit] {background-color: #E64626; border: solid; border-color: #734036; color: white; padding: 8px 16px; text-decoration: none; margin: 4px 2px; cursor: pointer; border-radius: 20px;}</style>\n"
      ],
      "text/plain": [
       "<IPython.core.display.HTML object>"
      ]
     },
     "execution_count": 1,
     "metadata": {},
     "output_type": "execute_result"
    }
   ],
   "source": [
    "from IPython.display import HTML\n",
    "HTML('''\n",
    "    <style> body {font-family: \"Roboto Condensed Light\", \"Roboto Condensed\";} h2 {padding: 10px 12px; background-color: #E64626; position: static; color: #ffffff; font-size: 40px;} .text_cell_render p { font-size: 15px; } .text_cell_render h1 { font-size: 30px; } h1 {padding: 10px 12px; background-color: #E64626; color: #ffffff; font-size: 40px;} .text_cell_render h3 { padding: 10px 12px; background-color: #0148A4; position: static; color: #ffffff; font-size: 20px;} h4:before{ \n",
    "    content: \"@\"; font-family:\"Wingdings\"; font-style:regular; margin-right: 4px;} .text_cell_render h4 {padding: 8px; font-family: \"Roboto Condensed Light\"; position: static; font-style: italic; background-color: #FFB800; color: #ffffff; font-size: 18px; text-align: center; border-radius: 5px;}input[type=submit] {background-color: #E64626; border: solid; border-color: #734036; color: white; padding: 8px 16px; text-decoration: none; margin: 4px 2px; cursor: pointer; border-radius: 20px;}</style>\n",
    "''')"
   ]
  },
  {
   "cell_type": "code",
   "execution_count": 2,
   "id": "ed04caf1",
   "metadata": {},
   "outputs": [],
   "source": [
    "# We understand that we should keep a copy of original data while cleaning, \n",
    "# but for a clear view, we only keep final version of cleaned data"
   ]
  },
  {
   "cell_type": "markdown",
   "id": "19b87d6b",
   "metadata": {},
   "source": [
    "## Data Cleaning"
   ]
  },
  {
   "cell_type": "code",
   "execution_count": 3,
   "id": "e6147c2d",
   "metadata": {},
   "outputs": [],
   "source": [
    "# CLEANING PROCESS\n",
    "# all data are limited to \n",
    "#       year 2019: pre-covid\n",
    "#       year 2020: covid\n",
    "#       year 2021: post-covid\n",
    "# data format is kept in monthly order\n",
    "# we always keep 2 columns 'Month' and 'Year'"
   ]
  },
  {
   "cell_type": "code",
   "execution_count": 4,
   "id": "173f5a85",
   "metadata": {},
   "outputs": [],
   "source": [
    "# AFTER CLEANING\n",
    "# each final dataset is convert to 36 rows (not including headers), \n",
    "# from 2019 to 2021 with strictly 12 months per year."
   ]
  },
  {
   "cell_type": "code",
   "execution_count": 3,
   "id": "dacb71cb",
   "metadata": {},
   "outputs": [],
   "source": [
    "import pandas as pd\n",
    "import numpy as np\n",
    "import calendar\n",
    "\n",
    "international_student = pd.read_csv(\"instu_R1.csv\")\n",
    "transport_usage = pd.read_csv(\"transport_R2.csv\")\n",
    "employment = pd.read_csv(\"employment_R3.csv\")\n",
    "passenger = pd.read_csv(\"passenger_R4.csv\")"
   ]
  },
  {
   "cell_type": "markdown",
   "id": "0aea5580",
   "metadata": {},
   "source": [
    "### Data 1 : Enrolment of international students"
   ]
  },
  {
   "cell_type": "code",
   "execution_count": 6,
   "id": "820b6194",
   "metadata": {},
   "outputs": [],
   "source": [
    "# Monthly international students' enrolments & commencements"
   ]
  },
  {
   "cell_type": "code",
   "execution_count": 2,
   "id": "8305ca63",
   "metadata": {},
   "outputs": [],
   "source": [
    "# Replace headers with first row\n",
    "new_header = international_student.iloc[0]\n",
    "international_student = international_student[1:]\n",
    "international_student.columns = new_header\n",
    "# Rename headers\n",
    "international_student.columns = ['Year','Month','State','Higher Education Enrolments','VET Enrolments',\n",
    "                                'Schools Enrolments','ELICOS Enrolments','Non-award Enrolments',\n",
    "                                'Higher Education Commencements','VET Commencements','Schools Commencements',\n",
    "                                'ELICOS Commencements','Non-award Commencements']\n",
    "# Clear all year execept for Jan 19 to Dec 21\n",
    "international_student = international_student[(international_student[\"Year\"] == \"2021\") | (international_student[\"Year\"] == '2020') | (international_student[\"Year\"] == '2019')]\n",
    "# Clear all states except \"NSW\"\n",
    "international_student = international_student[(international_student[\"State\"] == \"NSW\")]"
   ]
  },
  {
   "cell_type": "code",
   "execution_count": 3,
   "id": "de4f65dd",
   "metadata": {},
   "outputs": [
    {
     "data": {
      "text/html": [
       "<div>\n",
       "<style scoped>\n",
       "    .dataframe tbody tr th:only-of-type {\n",
       "        vertical-align: middle;\n",
       "    }\n",
       "\n",
       "    .dataframe tbody tr th {\n",
       "        vertical-align: top;\n",
       "    }\n",
       "\n",
       "    .dataframe thead th {\n",
       "        text-align: right;\n",
       "    }\n",
       "</style>\n",
       "<table border=\"1\" class=\"dataframe\">\n",
       "  <thead>\n",
       "    <tr style=\"text-align: right;\">\n",
       "      <th></th>\n",
       "      <th>Year</th>\n",
       "      <th>Month</th>\n",
       "      <th>State</th>\n",
       "      <th>Higher Education Enrolments</th>\n",
       "      <th>VET Enrolments</th>\n",
       "      <th>Schools Enrolments</th>\n",
       "      <th>ELICOS Enrolments</th>\n",
       "      <th>Non-award Enrolments</th>\n",
       "      <th>Higher Education Commencements</th>\n",
       "      <th>VET Commencements</th>\n",
       "      <th>Schools Commencements</th>\n",
       "      <th>ELICOS Commencements</th>\n",
       "      <th>Non-award Commencements</th>\n",
       "    </tr>\n",
       "  </thead>\n",
       "  <tbody>\n",
       "    <tr>\n",
       "      <th>1</th>\n",
       "      <td>2019</td>\n",
       "      <td>Jan</td>\n",
       "      <td>NSW</td>\n",
       "      <td>98,257</td>\n",
       "      <td>59,377</td>\n",
       "      <td>4,596</td>\n",
       "      <td>19,714</td>\n",
       "      <td>7,580</td>\n",
       "      <td>1,762</td>\n",
       "      <td>8,893</td>\n",
       "      <td>1,896</td>\n",
       "      <td>4,653</td>\n",
       "      <td>1,485</td>\n",
       "    </tr>\n",
       "    <tr>\n",
       "      <th>10</th>\n",
       "      <td>2019</td>\n",
       "      <td>Feb</td>\n",
       "      <td>NSW</td>\n",
       "      <td>120,224</td>\n",
       "      <td>66,453</td>\n",
       "      <td>4,690</td>\n",
       "      <td>23,231</td>\n",
       "      <td>11,711</td>\n",
       "      <td>23,729</td>\n",
       "      <td>15,969</td>\n",
       "      <td>1,990</td>\n",
       "      <td>8,170</td>\n",
       "      <td>5,616</td>\n",
       "    </tr>\n",
       "    <tr>\n",
       "      <th>19</th>\n",
       "      <td>2019</td>\n",
       "      <td>Mar</td>\n",
       "      <td>NSW</td>\n",
       "      <td>127,674</td>\n",
       "      <td>68,510</td>\n",
       "      <td>4,699</td>\n",
       "      <td>26,951</td>\n",
       "      <td>12,724</td>\n",
       "      <td>31,179</td>\n",
       "      <td>18,026</td>\n",
       "      <td>1,999</td>\n",
       "      <td>11,890</td>\n",
       "      <td>6,629</td>\n",
       "    </tr>\n",
       "  </tbody>\n",
       "</table>\n",
       "</div>"
      ],
      "text/plain": [
       "    Year Month State Higher Education Enrolments VET Enrolments  \\\n",
       "1   2019   Jan   NSW                      98,257         59,377   \n",
       "10  2019   Feb   NSW                     120,224         66,453   \n",
       "19  2019   Mar   NSW                     127,674         68,510   \n",
       "\n",
       "   Schools Enrolments ELICOS Enrolments Non-award Enrolments  \\\n",
       "1               4,596            19,714                7,580   \n",
       "10              4,690            23,231               11,711   \n",
       "19              4,699            26,951               12,724   \n",
       "\n",
       "   Higher Education Commencements VET Commencements Schools Commencements  \\\n",
       "1                           1,762             8,893                 1,896   \n",
       "10                         23,729            15,969                 1,990   \n",
       "19                         31,179            18,026                 1,999   \n",
       "\n",
       "   ELICOS Commencements Non-award Commencements  \n",
       "1                 4,653                   1,485  \n",
       "10                8,170                   5,616  \n",
       "19               11,890                   6,629  "
      ]
     },
     "execution_count": 3,
     "metadata": {},
     "output_type": "execute_result"
    }
   ],
   "source": [
    "international_student.head(3)"
   ]
  },
  {
   "cell_type": "markdown",
   "id": "0cc238a6",
   "metadata": {},
   "source": [
    "### Data 2: Usage of public transport"
   ]
  },
  {
   "cell_type": "code",
   "execution_count": 9,
   "id": "c7b59729",
   "metadata": {},
   "outputs": [],
   "source": [
    "# Monthly trips counts"
   ]
  },
  {
   "cell_type": "code",
   "execution_count": 10,
   "id": "ee4862d5",
   "metadata": {},
   "outputs": [],
   "source": [
    "# Restructure data\n",
    "transport_usage = transport_usage.pivot_table(index='Year_Month', columns='Travel_Mode', values='Trip', aggfunc='sum', margins=True)\n",
    "# Delete last row ('total row')\n",
    "transport_usage = transport_usage[:-1]\n",
    "# Ensure all empty value are in the same format of nan\n",
    "transport_usage = transport_usage.replace(' ', np.nan)\n",
    "# 34 nan val exists"
   ]
  },
  {
   "cell_type": "code",
   "execution_count": 11,
   "id": "2770f02f",
   "metadata": {},
   "outputs": [],
   "source": [
    "# Take 'Year_Month' column off 'Index'\n",
    "transport_usage = transport_usage.rename_axis('Year_Month').reset_index()\n",
    "# Split into 2 new columns: Year and Month\n",
    "date = transport_usage['Year_Month'].str.split(\"-\", expand=True,)\n",
    "# Add new columns to data set\n",
    "transport_usage = transport_usage.assign(Year=pd.DataFrame(date[0]))\n",
    "transport_usage = transport_usage.assign(Month=pd.DataFrame(date[1]))\n",
    "# Delete the old Year-Month column\n",
    "transport_usage = transport_usage.drop('Year_Month', axis=1)\n",
    "# Rearrange columns\n",
    "transport_usage = transport_usage[[\"Year\",\"Month\",\"Bus\",\"Ferry\",\"Metro\",\"Train\",\"All\"]]\n",
    "# Clear all year execept for Jan 19 to Dec 21\n",
    "transport_usage = transport_usage[(transport_usage[\"Year\"] == \"2021\") | (transport_usage[\"Year\"] == '2020') | (transport_usage[\"Year\"] == '2019')]\n",
    "# Convert int to month\n",
    "transport_usage.Month = transport_usage['Month'].apply(lambda x: calendar.month_abbr[int(x)])"
   ]
  },
  {
   "cell_type": "code",
   "execution_count": 12,
   "id": "e55c1c52",
   "metadata": {},
   "outputs": [
    {
     "data": {
      "text/html": [
       "<div>\n",
       "<style scoped>\n",
       "    .dataframe tbody tr th:only-of-type {\n",
       "        vertical-align: middle;\n",
       "    }\n",
       "\n",
       "    .dataframe tbody tr th {\n",
       "        vertical-align: top;\n",
       "    }\n",
       "\n",
       "    .dataframe thead th {\n",
       "        text-align: right;\n",
       "    }\n",
       "</style>\n",
       "<table border=\"1\" class=\"dataframe\">\n",
       "  <thead>\n",
       "    <tr style=\"text-align: right;\">\n",
       "      <th>Travel_Mode</th>\n",
       "      <th>Year</th>\n",
       "      <th>Month</th>\n",
       "      <th>Bus</th>\n",
       "      <th>Ferry</th>\n",
       "      <th>Metro</th>\n",
       "      <th>Train</th>\n",
       "      <th>All</th>\n",
       "    </tr>\n",
       "  </thead>\n",
       "  <tbody>\n",
       "    <tr>\n",
       "      <th>30</th>\n",
       "      <td>2019</td>\n",
       "      <td>Jan</td>\n",
       "      <td>22040138.0</td>\n",
       "      <td>1619996.0</td>\n",
       "      <td>NaN</td>\n",
       "      <td>29925564.0</td>\n",
       "      <td>54210931.0</td>\n",
       "    </tr>\n",
       "    <tr>\n",
       "      <th>31</th>\n",
       "      <td>2019</td>\n",
       "      <td>Feb</td>\n",
       "      <td>25713814.0</td>\n",
       "      <td>1266715.0</td>\n",
       "      <td>NaN</td>\n",
       "      <td>32218764.0</td>\n",
       "      <td>60087643.0</td>\n",
       "    </tr>\n",
       "    <tr>\n",
       "      <th>32</th>\n",
       "      <td>2019</td>\n",
       "      <td>Mar</td>\n",
       "      <td>28742223.0</td>\n",
       "      <td>1300757.0</td>\n",
       "      <td>NaN</td>\n",
       "      <td>36530266.0</td>\n",
       "      <td>67583312.0</td>\n",
       "    </tr>\n",
       "  </tbody>\n",
       "</table>\n",
       "</div>"
      ],
      "text/plain": [
       "Travel_Mode  Year Month         Bus      Ferry  Metro       Train         All\n",
       "30           2019   Jan  22040138.0  1619996.0    NaN  29925564.0  54210931.0\n",
       "31           2019   Feb  25713814.0  1266715.0    NaN  32218764.0  60087643.0\n",
       "32           2019   Mar  28742223.0  1300757.0    NaN  36530266.0  67583312.0"
      ]
     },
     "execution_count": 12,
     "metadata": {},
     "output_type": "execute_result"
    }
   ],
   "source": [
    "transport_usage.head(3)"
   ]
  },
  {
   "cell_type": "markdown",
   "id": "4b3c4615",
   "metadata": {},
   "source": [
    "### Data 3: Employment"
   ]
  },
  {
   "cell_type": "code",
   "execution_count": 13,
   "id": "0167f1a4",
   "metadata": {},
   "outputs": [],
   "source": [
    "# Unemployment rate and hours worked"
   ]
  },
  {
   "cell_type": "code",
   "execution_count": 14,
   "id": "31bde0f2",
   "metadata": {},
   "outputs": [],
   "source": [
    "# Delete last 2 'info' rows\n",
    "employment = employment[:-2]\n",
    "# Split 'Date' into 2 columns contain 'Year' and 'Month'\n",
    "date = employment['Date'].str.split(\"-\", expand=True,)\n",
    "# Add 'Year' \"Month\" to data set\n",
    "employment = employment.assign(Year=pd.DataFrame(date[1]))\n",
    "employment = employment.assign(Month=pd.DataFrame(date[0]))\n",
    "# Remove old column 'Date'\n",
    "employment = employment.drop('Date', axis=1)\n",
    "# Rearrange column\n",
    "# list(a) then copy the output\n",
    "employment = employment[['Year','Month','Unemployment rate(%)','Underemployment rate(%)',\n",
    "                        \"Employed people ('000)\",'Hours worked (m)','Hours worked Yearly change (%)',\n",
    "                        'Underemployment Males (%)','Underemployment Females (%)']]\n",
    "# Clear all year execept for Jan 19 to Dec 21\n",
    "employment = employment[(employment[\"Year\"] == \"19\") \n",
    "                        |(employment[\"Year\"] == \"20\") \n",
    "                        | (employment[\"Year\"] == \"21\")]\n",
    "employment['Year'] = employment['Year'].replace(['19', '20', '21'], ['2019', '2020', '2021'])"
   ]
  },
  {
   "cell_type": "code",
   "execution_count": 15,
   "id": "03991dbc",
   "metadata": {},
   "outputs": [
    {
     "data": {
      "text/html": [
       "<div>\n",
       "<style scoped>\n",
       "    .dataframe tbody tr th:only-of-type {\n",
       "        vertical-align: middle;\n",
       "    }\n",
       "\n",
       "    .dataframe tbody tr th {\n",
       "        vertical-align: top;\n",
       "    }\n",
       "\n",
       "    .dataframe thead th {\n",
       "        text-align: right;\n",
       "    }\n",
       "</style>\n",
       "<table border=\"1\" class=\"dataframe\">\n",
       "  <thead>\n",
       "    <tr style=\"text-align: right;\">\n",
       "      <th></th>\n",
       "      <th>Year</th>\n",
       "      <th>Month</th>\n",
       "      <th>Unemployment rate(%)</th>\n",
       "      <th>Underemployment rate(%)</th>\n",
       "      <th>Employed people ('000)</th>\n",
       "      <th>Hours worked (m)</th>\n",
       "      <th>Hours worked Yearly change (%)</th>\n",
       "      <th>Underemployment Males (%)</th>\n",
       "      <th>Underemployment Females (%)</th>\n",
       "    </tr>\n",
       "  </thead>\n",
       "  <tbody>\n",
       "    <tr>\n",
       "      <th>78</th>\n",
       "      <td>2019</td>\n",
       "      <td>Jan</td>\n",
       "      <td>5.1</td>\n",
       "      <td>8.1</td>\n",
       "      <td>12,747.20</td>\n",
       "      <td>1,762</td>\n",
       "      <td>3.6</td>\n",
       "      <td>6.2</td>\n",
       "      <td>10.4</td>\n",
       "    </tr>\n",
       "    <tr>\n",
       "      <th>79</th>\n",
       "      <td>2019</td>\n",
       "      <td>Feb</td>\n",
       "      <td>5.0</td>\n",
       "      <td>8.1</td>\n",
       "      <td>12,747.30</td>\n",
       "      <td>1,764</td>\n",
       "      <td>2.3</td>\n",
       "      <td>6.3</td>\n",
       "      <td>10.1</td>\n",
       "    </tr>\n",
       "    <tr>\n",
       "      <th>80</th>\n",
       "      <td>2019</td>\n",
       "      <td>Mar</td>\n",
       "      <td>5.1</td>\n",
       "      <td>8.3</td>\n",
       "      <td>12,780.70</td>\n",
       "      <td>1,779</td>\n",
       "      <td>3.0</td>\n",
       "      <td>6.5</td>\n",
       "      <td>10.2</td>\n",
       "    </tr>\n",
       "  </tbody>\n",
       "</table>\n",
       "</div>"
      ],
      "text/plain": [
       "    Year Month  Unemployment rate(%)  Underemployment rate(%)  \\\n",
       "78  2019   Jan                   5.1                      8.1   \n",
       "79  2019   Feb                   5.0                      8.1   \n",
       "80  2019   Mar                   5.1                      8.3   \n",
       "\n",
       "   Employed people ('000) Hours worked (m)  Hours worked Yearly change (%)  \\\n",
       "78              12,747.20            1,762                             3.6   \n",
       "79              12,747.30            1,764                             2.3   \n",
       "80              12,780.70            1,779                             3.0   \n",
       "\n",
       "    Underemployment Males (%)  Underemployment Females (%)  \n",
       "78                        6.2                         10.4  \n",
       "79                        6.3                         10.1  \n",
       "80                        6.5                         10.2  "
      ]
     },
     "execution_count": 15,
     "metadata": {},
     "output_type": "execute_result"
    }
   ],
   "source": [
    "employment.head(3)"
   ]
  },
  {
   "cell_type": "markdown",
   "id": "2a13de88",
   "metadata": {},
   "source": [
    "### Data 4: Passenger Air Movement"
   ]
  },
  {
   "cell_type": "code",
   "execution_count": 16,
   "id": "fe5e4fac",
   "metadata": {},
   "outputs": [],
   "source": [
    "# Monthly passenger movement at 20 major Australian airports"
   ]
  },
  {
   "cell_type": "code",
   "execution_count": 17,
   "id": "c30166bf",
   "metadata": {},
   "outputs": [],
   "source": [
    "# Clear all airports outside NSW\n",
    "passenger = passenger[(passenger[\"AIRPORT\"] == \"SYDNEY\")]\n",
    "# Clear all year execept for Jan 19 to Dec 21\n",
    "passenger = passenger[(passenger[\"Year\"] == 2019) | (passenger[\"Year\"] == 2020) | (passenger[\"Year\"] == 2021)]\n",
    "# Ensure all empty columns are in the same nan format\n",
    "passenger = passenger.replace(' ', np.nan)\n",
    "# Rearrange columns\n",
    "passenger = passenger[['Year','Month','AIRPORT',\n",
    "        'Dom_Pax_In','Dom_Pax_Out','Dom_Pax_Total',\n",
    "        'Int_Pax_In','Int_Pax_Out','Int_Pax_Total',\n",
    "        'Pax_In','Pax_Out','Pax_Total']]\n",
    "passenger.Month = passenger['Month'].apply(lambda x: calendar.month_abbr[int(x)])"
   ]
  },
  {
   "cell_type": "code",
   "execution_count": 18,
   "id": "173de1ae",
   "metadata": {},
   "outputs": [
    {
     "data": {
      "text/html": [
       "<div>\n",
       "<style scoped>\n",
       "    .dataframe tbody tr th:only-of-type {\n",
       "        vertical-align: middle;\n",
       "    }\n",
       "\n",
       "    .dataframe tbody tr th {\n",
       "        vertical-align: top;\n",
       "    }\n",
       "\n",
       "    .dataframe thead th {\n",
       "        text-align: right;\n",
       "    }\n",
       "</style>\n",
       "<table border=\"1\" class=\"dataframe\">\n",
       "  <thead>\n",
       "    <tr style=\"text-align: right;\">\n",
       "      <th></th>\n",
       "      <th>Year</th>\n",
       "      <th>Month</th>\n",
       "      <th>AIRPORT</th>\n",
       "      <th>Dom_Pax_In</th>\n",
       "      <th>Dom_Pax_Out</th>\n",
       "      <th>Dom_Pax_Total</th>\n",
       "      <th>Int_Pax_In</th>\n",
       "      <th>Int_Pax_Out</th>\n",
       "      <th>Int_Pax_Total</th>\n",
       "      <th>Pax_In</th>\n",
       "      <th>Pax_Out</th>\n",
       "      <th>Pax_Total</th>\n",
       "    </tr>\n",
       "  </thead>\n",
       "  <tbody>\n",
       "    <tr>\n",
       "      <th>9084</th>\n",
       "      <td>2019</td>\n",
       "      <td>Jan</td>\n",
       "      <td>SYDNEY</td>\n",
       "      <td>1151296</td>\n",
       "      <td>1138031</td>\n",
       "      <td>2289327</td>\n",
       "      <td>887489</td>\n",
       "      <td>768912</td>\n",
       "      <td>1656401</td>\n",
       "      <td>2038785</td>\n",
       "      <td>1906943</td>\n",
       "      <td>3945728</td>\n",
       "    </tr>\n",
       "    <tr>\n",
       "      <th>9085</th>\n",
       "      <td>2019</td>\n",
       "      <td>Feb</td>\n",
       "      <td>SYDNEY</td>\n",
       "      <td>1041047</td>\n",
       "      <td>1041948</td>\n",
       "      <td>2082995</td>\n",
       "      <td>707952</td>\n",
       "      <td>612960</td>\n",
       "      <td>1320912</td>\n",
       "      <td>1748999</td>\n",
       "      <td>1654908</td>\n",
       "      <td>3403907</td>\n",
       "    </tr>\n",
       "    <tr>\n",
       "      <th>9086</th>\n",
       "      <td>2019</td>\n",
       "      <td>Mar</td>\n",
       "      <td>SYDNEY</td>\n",
       "      <td>1168035</td>\n",
       "      <td>1163665</td>\n",
       "      <td>2331700</td>\n",
       "      <td>656438</td>\n",
       "      <td>672111</td>\n",
       "      <td>1328549</td>\n",
       "      <td>1824473</td>\n",
       "      <td>1835776</td>\n",
       "      <td>3660249</td>\n",
       "    </tr>\n",
       "  </tbody>\n",
       "</table>\n",
       "</div>"
      ],
      "text/plain": [
       "      Year Month AIRPORT  Dom_Pax_In  Dom_Pax_Out  Dom_Pax_Total  Int_Pax_In  \\\n",
       "9084  2019   Jan  SYDNEY     1151296      1138031        2289327      887489   \n",
       "9085  2019   Feb  SYDNEY     1041047      1041948        2082995      707952   \n",
       "9086  2019   Mar  SYDNEY     1168035      1163665        2331700      656438   \n",
       "\n",
       "      Int_Pax_Out  Int_Pax_Total   Pax_In  Pax_Out  Pax_Total  \n",
       "9084       768912        1656401  2038785  1906943    3945728  \n",
       "9085       612960        1320912  1748999  1654908    3403907  \n",
       "9086       672111        1328549  1824473  1835776    3660249  "
      ]
     },
     "execution_count": 18,
     "metadata": {},
     "output_type": "execute_result"
    }
   ],
   "source": [
    "passenger.head(3)"
   ]
  },
  {
   "cell_type": "code",
   "execution_count": 19,
   "id": "53a3cd0a",
   "metadata": {},
   "outputs": [],
   "source": [
    "# Export data frame to csv without index column\n",
    "international_student.to_csv(\"instu_C1.csv\", index = False)\n",
    "transport_usage.to_csv(\"transport_C2.csv\", index = False)\n",
    "employment.to_csv(\"employment_C3.csv\", index = False)\n",
    "passenger.to_csv(\"passenger_C4.csv\", index = False)"
   ]
  },
  {
   "cell_type": "markdown",
   "id": "74a685ff",
   "metadata": {},
   "source": [
    "## Visualisation"
   ]
  },
  {
   "cell_type": "code",
   "execution_count": null,
   "id": "8a818c1a",
   "metadata": {},
   "outputs": [],
   "source": [
    "# I want to emphasize the change in 2020, when covid starts"
   ]
  },
  {
   "cell_type": "code",
   "execution_count": 27,
   "id": "c8bca4ef",
   "metadata": {},
   "outputs": [],
   "source": [
    "from matplotlib import pyplot as plt\n",
    "\n",
    "international_student = pd.read_csv(\"instu_C1.csv\", thousands=',')\n",
    "transport_usage = pd.read_csv(\"transport_C2.csv\")\n",
    "employment = pd.read_csv(\"employment_C3.csv\", thousands=',')\n",
    "passenger = pd.read_csv(\"passenger_C4.csv\")"
   ]
  },
  {
   "cell_type": "markdown",
   "id": "b505a4eb",
   "metadata": {},
   "source": [
    "### D1: International Students"
   ]
  },
  {
   "cell_type": "code",
   "execution_count": 22,
   "id": "a0f093f9",
   "metadata": {},
   "outputs": [],
   "source": [
    "# Commencement of International Students from 2019 to 2021\n",
    "# in Higher Education sector\n",
    "is19 = international_student[international_student['Year']==2019]\n",
    "is20 = international_student[international_student['Year']==2020]\n",
    "is21 = international_student[international_student['Year']==2021]\n",
    "x = is19['Month']\n",
    "y19 = is19['Higher Education Commencements']\n",
    "y20 = is20['Higher Education Commencements']\n",
    "y21 = is21['Higher Education Commencements']"
   ]
  },
  {
   "cell_type": "code",
   "execution_count": 23,
   "id": "9e950efd",
   "metadata": {},
   "outputs": [
    {
     "data": {
      "image/png": "[encoded data removed]",
      "text/plain": [
       "<Figure size 864x576 with 1 Axes>"
      ]
     },
     "metadata": {
      "needs_background": "light"
     },
     "output_type": "display_data"
    }
   ],
   "source": [
    "# Line graph (FIG 1.1)\n",
    "plt.figure(figsize=(12,8))\n",
    "\n",
    "plt.plot(x, y20, ls=\"--\", lw=3, marker=\"X\", markersize=10,\n",
    "         markerfacecolor=\"red\", markeredgecolor=\"black\",label=\"2020\")\n",
    "plt.plot(x, y19, ls=\":\", marker=\"o\", markersize=15,\n",
    "         markerfacecolor=\"None\", label=\"2019\")\n",
    "plt.plot(x, y21, ls=\":\", marker=\"o\", markersize=15, \n",
    "         markerfacecolor=\"None\", label=\"2021\")\n",
    "\n",
    "plt.title('International Students Higher Education Commencements 2019-2021'\n",
    "          , fontsize=15, pad=18)\n",
    "plt.grid()\n",
    "plt.xlabel('Month', fontsize=15, labelpad=18)\n",
    "plt.ylabel('Number of commencemments', fontsize=15, labelpad=18)\n",
    "plt.xticks(fontsize=15)\n",
    "plt.yticks(fontsize=15)\n",
    "plt.legend(fontsize=17)\n",
    "plt.show()\n",
    "# plt.savefig('line.png')"
   ]
  },
  {
   "cell_type": "code",
   "execution_count": 24,
   "id": "0c7c26cf",
   "metadata": {},
   "outputs": [],
   "source": [
    "# Total Enrolments and Commencements of International Students\n",
    "# Each year from 2019 to 2021\n",
    "x19 = pd.melt(is19,id_vars=['Year','Month','State'])['value']\n",
    "is21 = pd.melt(is21,id_vars=['Year','Month','State'])['value']"
   ]
  },
  {
   "cell_type": "code",
   "execution_count": 25,
   "id": "87b46401",
   "metadata": {},
   "outputs": [
    {
     "data": {
      "image/png": "[encoded data removed]",
      "text/plain": [
       "<Figure size 792x504 with 1 Axes>"
      ]
     },
     "metadata": {
      "needs_background": "light"
     },
     "output_type": "display_data"
    }
   ],
   "source": [
    "# Histogram (FIG 1.2)\n",
    "plt.figure(figsize=(11,7))\n",
    "plt.hist(x19, alpha=0.4, label='2019 -Before Shutdown')\n",
    "plt.hist(x21, alpha=0.4, label='2021 -After Shutdown')\n",
    "\n",
    "plt.title('International Students Total Enrolments and Commencements'\n",
    "          ,fontsize=15, pad=18)\n",
    "plt.grid()\n",
    "plt.xlabel('Number of enrolments/commencements', fontsize=15, labelpad=18)\n",
    "plt.ylabel('Frequency', fontsize=15, labelpad=18)\n",
    "plt.xticks(fontsize=15)\n",
    "plt.yticks(fontsize=15)\n",
    "plt.legend(fontsize=15)\n",
    "plt.show()\n",
    "# plt.savefig('hist.png')"
   ]
  },
  {
   "cell_type": "markdown",
   "id": "d71e8b74",
   "metadata": {},
   "source": [
    "### D2: Public transport usage"
   ]
  },
  {
   "cell_type": "code",
   "execution_count": 33,
   "id": "1fca0538",
   "metadata": {},
   "outputs": [
    {
     "data": {
      "image/png": "[encoded data removed]",
      "text/plain": [
       "<Figure size 720x432 with 1 Axes>"
      ]
     },
     "metadata": {
      "needs_background": "light"
     },
     "output_type": "display_data"
    }
   ],
   "source": [
    "# Total trips of all public transports from 2019 to 2021\n",
    "# Boxplot (FIG 2.1)\n",
    "tp19 = transport_usage[transport_usage['Year']==2019]['All']\n",
    "tp20 = transport_usage[transport_usage['Year']==2020]['All']\n",
    "tp21 = transport_usage[transport_usage['Year']==2021]['All']\n",
    "\n",
    "plt.figure(figsize=(10,6))\n",
    "plt.title('Total trips of all public transports from 2019 to 2021', fontsize=15)\n",
    "plt.boxplot([tp19, tp20, tp21], labels = ['2019', '2020', '2021'])\n",
    "plt.xlabel(\"Year\", fontsize=15, labelpad=15)\n",
    "plt.ylabel(\"Number of trips\", fontsize=15, labelpad=15)\n",
    "plt.show()"
   ]
  },
  {
   "cell_type": "markdown",
   "id": "ff32833f",
   "metadata": {},
   "source": [
    "### D3: Employment"
   ]
  },
  {
   "cell_type": "code",
   "execution_count": 37,
   "id": "39795a0c",
   "metadata": {},
   "outputs": [
    {
     "data": {
      "image/png": "[encoded data removed]",
      "text/plain": [
       "<Figure size 576x360 with 1 Axes>"
      ]
     },
     "metadata": {
      "needs_background": "light"
     },
     "output_type": "display_data"
    }
   ],
   "source": [
    "# Bar chart (FIG 3.1)\n",
    "employment = employment.groupby('Year').mean()\n",
    "employment = employment.rename_axis('Year').reset_index()\n",
    "\n",
    "employment.plot.bar(x='Year', y=['Underemployment Males (%)', 'Underemployment Females (%)'], \n",
    "             label=['Males', 'Females'], figsize = (8, 5))\n",
    "plt.title('Australian Underemployment Rate 2019-2021', fontsize=15, pad=8)\n",
    "plt.grid()\n",
    "plt.xlabel('Year', fontsize=15, labelpad=15)\n",
    "plt.ylabel('Underemployment rate (%)', fontsize=15, labelpad=8)\n",
    "plt.ylim(0, 16)\n",
    "plt.xticks(fontsize=15)\n",
    "plt.yticks(fontsize=15)\n",
    "plt.legend(fontsize=15)\n",
    "plt.show()"
   ]
  },
  {
   "cell_type": "markdown",
   "id": "a7d5983e",
   "metadata": {},
   "source": [
    "### D4: Passenger air movement"
   ]
  },
  {
   "cell_type": "code",
   "execution_count": 39,
   "id": "674a71c3",
   "metadata": {},
   "outputs": [
    {
     "data": {
      "image/png": "[encoded data removed]",
      "text/plain": [
       "<Figure size 432x288 with 1 Axes>"
      ]
     },
     "metadata": {
      "needs_background": "light"
     },
     "output_type": "display_data"
    }
   ],
   "source": [
    "# Bar Chart (FIG 4.1)\n",
    "passenger = passenger.groupby('Year').sum()\n",
    "passenger = passenger.rename_axis('Year').reset_index()\n",
    "\n",
    "passenger.plot.bar(x='Year',y=['Dom_Pax_In', 'Dom_Pax_Out', 'Int_Pax_In', 'Int_Pax_Out'],\n",
    "        title='Total number of passengers going in and going out, international and domestic 2019-2021\\n',\n",
    "        xlabel='Year', ylabel='Number of passengers movement')\n",
    "# Rotates X-Axis Ticks by 360-degrees\n",
    "plt.xticks(rotation=360)\n",
    "plt.grid()"
   ]
  }
 ],
 "metadata": {
  "kernelspec": {
   "display_name": "Python 3 (ipykernel)",
   "language": "python",
   "name": "python3"
  },
  "language_info": {
   "codemirror_mode": {
    "name": "ipython",
    "version": 3
   },
   "file_extension": ".py",
   "mimetype": "text/x-python",
   "name": "python",
   "nbconvert_exporter": "python",
   "pygments_lexer": "ipython3",
   "version": "3.9.7"
  }
 },
 "nbformat": 4,
 "nbformat_minor": 5
}
